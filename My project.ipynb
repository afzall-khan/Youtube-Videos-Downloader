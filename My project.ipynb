{
 "cells": [
  {
   "cell_type": "markdown",
   "metadata": {},
   "source": [
    "# Youtube Video Downloader "
   ]
  },
  {
   "cell_type": "code",
   "execution_count": null,
   "metadata": {},
   "outputs": [],
   "source": [
    "import pytube \n",
    "from pytube import YouTube\n",
    "link = input(\"Enter the link of Video You want to download: \")\n",
    "yt = YouTube(link)\n",
    "#Title of video\n",
    "print('Title:',yt.title)\n",
    "#Number of views of video\n",
    "print(\"Number of views:\" ,yt.views)\n",
    "#Length of the video\n",
    "print(\"Length of video: \",yt.length,'seconds')\n",
    "#Description of video\n",
    "#print(\"Description: \",yt.description)\n",
    "#Rating\n",
    "print(\"Ratings: \",yt.rating)\n",
    "#yt.streams.filter(progressive=True)\n",
    "ys=yt.streams.get_highest_resolution()\n",
    "print(\"Downloading...\")\n",
    "ys.download()\n",
    "print(\"Download Completed\")"
   ]
  },
  {
   "cell_type": "code",
   "execution_count": null,
   "metadata": {},
   "outputs": [],
   "source": []
  },
  {
   "cell_type": "code",
   "execution_count": null,
   "metadata": {},
   "outputs": [],
   "source": []
  }
 ],
 "metadata": {
  "kernelspec": {
   "display_name": "Python 3",
   "language": "python",
   "name": "python3"
  },
  "language_info": {
   "codemirror_mode": {
    "name": "ipython",
    "version": 3
   },
   "file_extension": ".py",
   "mimetype": "text/x-python",
   "name": "python",
   "nbconvert_exporter": "python",
   "pygments_lexer": "ipython3",
   "version": "3.8.5"
  }
 },
 "nbformat": 4,
 "nbformat_minor": 4
}
